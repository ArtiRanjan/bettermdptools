{
 "cells": [
  {
   "cell_type": "code",
   "execution_count": 2,
   "id": "d8765dfa-0db9-4e04-83b4-24e296053634",
   "metadata": {},
   "outputs": [],
   "source": [
    "import gymnasium as gym\n",
    "from bettermdptools.envs.cartpole_wrapper import CartpoleWrapper\n",
    "from bettermdptools.utils.test_env import TestEnv\n",
    "from bettermdptools.algorithms.planner import Planner\n",
    "from bettermdptools.algorithms.rl import RL\n",
    "import numpy as np"
   ]
  },
  {
   "cell_type": "code",
   "execution_count": 4,
   "id": "e9e16c85-88e6-483c-aeb9-ee2a91d5cda6",
   "metadata": {},
   "outputs": [
    {
     "name": "stdout",
     "output_type": "stream",
     "text": [
      "\n"
     ]
    },
    {
     "name": "stdout",
     "output_type": "stream",
     "text": [
      "runtime = 42.04 seconds\n",
      "9.52\n"
     ]
    },
    {
     "name": "stdout",
     "output_type": "stream",
     "text": [
      "runtime = 175.35 seconds\n",
      "103.45\n"
     ]
    }
   ],
   "source": [
    "position_bins = 10\n",
    "velocity_bins = 10\n",
    "angular_velocity_bins = 10\n",
    "angular_center_resolution = .1\n",
    "angular_outer_resolution = .5\n",
    "\n",
    "base_env = gym.make('CartPole-v1', render_mode=None)\n",
    "cartpole = CartpoleWrapper(base_env, \n",
    "                           position_bins=position_bins, \n",
    "                           velocity_bins=velocity_bins, \n",
    "                           angular_velocity_bins=angular_velocity_bins, \n",
    "                           angular_center_resolution=angular_center_resolution, \n",
    "                           angular_outer_resolution=angular_outer_resolution)\n",
    "\n",
    "# run VI\n",
    "V, V_track, pi = Planner(cartpole.P).value_iteration()\n",
    "\n",
    "#test policy\n",
    "test_scores = TestEnv.test_env(env=cartpole, n_iters=100, render=False, pi=pi, user_input=False)\n",
    "print(np.mean(test_scores))\n",
    "\n",
    "# Q-learning\n",
    "Q, V, pi, Q_track, pi_track = RL(cartpole).q_learning()\n",
    "\n",
    "#test policy\n",
    "test_scores = TestEnv.test_env(env=cartpole, n_iters=100, render=False, pi=pi, user_input=False)\n",
    "print(np.mean(test_scores))"
   ]
  },
  {
   "cell_type": "code",
   "execution_count": null,
   "id": "70ee0bdc-26c2-41c6-8f52-67767a5be791",
   "metadata": {},
   "outputs": [],
   "source": []
  }
 ],
 "metadata": {
  "kernelspec": {
   "display_name": "bettermdptools",
   "language": "python",
   "name": "bettermdptools"
  },
  "language_info": {
   "codemirror_mode": {
    "name": "ipython",
    "version": 3
   },
   "file_extension": ".py",
   "mimetype": "text/x-python",
   "name": "python",
   "nbconvert_exporter": "python",
   "pygments_lexer": "ipython3",
   "version": "3.11.5"
  }
 },
 "nbformat": 4,
 "nbformat_minor": 5
}
